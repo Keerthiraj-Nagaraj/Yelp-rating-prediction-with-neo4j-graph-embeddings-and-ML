{
 "cells": [
  {
   "cell_type": "markdown",
   "metadata": {},
   "source": [
    "### Cypher Queries"
   ]
  },
  {
   "cell_type": "code",
   "execution_count": null,
   "metadata": {},
   "outputs": [],
   "source": [
    "#Create uniqueness constraint on category ID - to avoid duplicates, also creates indexing which improves query execution"
   ]
  },
  {
   "cell_type": "code",
   "execution_count": null,
   "metadata": {},
   "outputs": [],
   "source": [
    "//yelp category constraint\n",
    "CREATE CONSTRAINT ON (c:Category) ASSERT c.id is UNIQUE"
   ]
  },
  {
   "cell_type": "code",
   "execution_count": 21,
   "metadata": {},
   "outputs": [],
   "source": [
    "# Add categories from json"
   ]
  },
  {
   "cell_type": "code",
   "execution_count": null,
   "metadata": {},
   "outputs": [],
   "source": [
    "//Create categories\n",
    "CALL apoc.load.json(\"file:///categories.json\")\n",
    "YIELD value\n",
    "MERGE (c:Category {id: value.category_id})\n",
    "SET c.name = value.category_name"
   ]
  },
  {
   "cell_type": "code",
   "execution_count": null,
   "metadata": {},
   "outputs": [],
   "source": [
    "# Create uniqueness constraint on restaurant ID - to avoid duplicates, also creates indexing which improves query execution"
   ]
  },
  {
   "cell_type": "code",
   "execution_count": null,
   "metadata": {},
   "outputs": [],
   "source": [
    "//a 4 yelp restaurant constraint\n",
    "CREATE CONSTRAINT ON (r:Restaurant) ASSERT r.id is UNIQUE"
   ]
  },
  {
   "cell_type": "code",
   "execution_count": null,
   "metadata": {},
   "outputs": [],
   "source": [
    "# Add restaurants from json"
   ]
  },
  {
   "cell_type": "code",
   "execution_count": null,
   "metadata": {},
   "outputs": [],
   "source": [
    "//a yelp create restaurant\n",
    "call apoc.periodic.iterate('\n",
    "CALL apoc.load.json(\"file:///restaurants.json\")\n",
    "YIELD value\n",
    "','\n",
    "MERGE (r:Restaurant {id: value.business_id})\n",
    "SET r.stars = value.business_stars, r.review_count = value.business_review_count, r.open = value.is_open\n",
    "',{batchSize:10000})"
   ]
  },
  {
   "cell_type": "code",
   "execution_count": null,
   "metadata": {},
   "outputs": [],
   "source": [
    "# load restaurant to category connections"
   ]
  },
  {
   "cell_type": "code",
   "execution_count": null,
   "metadata": {},
   "outputs": [],
   "source": [
    "//a 5 yelp Restaurant to category\n",
    "call apoc.periodic.iterate('\n",
    "CALL apoc.load.json(\"file:///restaurant_to_category.json\")\n",
    "YIELD value\n",
    "','\n",
    "OPTIONAL MATCH (r:Restaurant {id: value.business_id}),(c:Category {id: value.category_id})\n",
    "MERGE (r)-[:IS_CATEGORY]-(c)\n",
    "',{batchSize:10000})"
   ]
  },
  {
   "cell_type": "code",
   "execution_count": null,
   "metadata": {},
   "outputs": [],
   "source": [
    "# Create uniqueness constraint on user ID - to avoid duplicates, also creates indexing which improves query execution"
   ]
  },
  {
   "cell_type": "code",
   "execution_count": null,
   "metadata": {},
   "outputs": [],
   "source": [
    "//a 8 yelp user constraints\n",
    "CREATE CONSTRAINT ON (u:User) ASSERT u.id is UNIQUE"
   ]
  },
  {
   "cell_type": "code",
   "execution_count": null,
   "metadata": {},
   "outputs": [],
   "source": [
    "# load users in batches"
   ]
  },
  {
   "cell_type": "code",
   "execution_count": null,
   "metadata": {},
   "outputs": [],
   "source": [
    "//a 8 yelp create users batch\n",
    "call apoc.periodic.iterate('\n",
    "CALL apoc.load.json(\"file:///users.json\")\n",
    "YIELD value\n",
    "','\n",
    "MERGE (u:User {id: value.user_id})\n",
    "SET u.votes_useful = value.useful, u.votes_funny = value.funny, u.votes_cool = value.cool, u.user_review_count = value.review_count, u.fans = value.fans, u.average_stars = value.average_stars, u.average_compliment = value.mean_compliment_score\n",
    "',{batchSize:10000})"
   ]
  },
  {
   "cell_type": "code",
   "execution_count": null,
   "metadata": {},
   "outputs": [],
   "source": [
    "# load users to restaurant connections in batches"
   ]
  },
  {
   "cell_type": "code",
   "execution_count": null,
   "metadata": {},
   "outputs": [],
   "source": [
    "//a 93 yelp user to restaurant\n",
    "call apoc.periodic.iterate('\n",
    "CALL apoc.load.json(\"file:///user_to_restaurant.json\")\n",
    "YIELD value\n",
    "','\n",
    "OPTIONAL MATCH (r:Restaurant {id: value.business_id}),(u:User {id: value.user_id})\n",
    "MERGE (u)-[:REVIEWS {review_stars: value.review_stars}]-(r)\n",
    "',{batchSize:10000})"
   ]
  },
  {
   "cell_type": "code",
   "execution_count": null,
   "metadata": {},
   "outputs": [],
   "source": [
    "#create an inmemory graph of the full graph to run Graph Data Science library algorithms in Noe4j "
   ]
  },
  {
   "cell_type": "code",
   "execution_count": null,
   "metadata": {},
   "outputs": [],
   "source": [
    "//a 95 create inmemory full graph\n",
    "CALL gds.graph.create('full_yelp', '*', '*')"
   ]
  },
  {
   "cell_type": "code",
   "execution_count": null,
   "metadata": {},
   "outputs": [],
   "source": [
    "#Train graphsage model on full graph --> this resulted in same embedding for all the nodes of same kind. "
   ]
  },
  {
   "cell_type": "code",
   "execution_count": null,
   "metadata": {},
   "outputs": [],
   "source": [
    "# // a 96 graphsage yelp full\n",
    "CALL gds.beta.graphSage.train(,  'full_yelp',,  {,    modelName: 'graphsage_yelp_full',    aggregator: 'mean',   activationFunction: 'relu',   sampleSizes: [25, 10],    degreeAsProperty: true,   projectedFeatureDimension: 5},)"
   ]
  },
  {
   "cell_type": "code",
   "execution_count": null,
   "metadata": {},
   "outputs": [],
   "source": [
    "# Write graphsage embeddings as node properties"
   ]
  },
  {
   "cell_type": "code",
   "execution_count": null,
   "metadata": {},
   "outputs": [],
   "source": [
    "//a 98 yelp graphsage embeddings\n",
    "CALL gds.beta.graphSage.write(\n",
    "'full_yelp',\n",
    "{\n",
    "\twriteProperty: 'graphsage_embedding',\n",
    "\tmodelName: 'graphsage_yelp_full'\n",
    "});"
   ]
  },
  {
   "cell_type": "code",
   "execution_count": null,
   "metadata": {},
   "outputs": [],
   "source": [
    " #create an inmemory graph of the sub graph to run Graph Data Science library algorithms in Noe4j "
   ]
  },
  {
   "cell_type": "code",
   "execution_count": null,
   "metadata": {},
   "outputs": [],
   "source": [
    "// a 99 yelp rest cat full inmemory subgraph\n",
    "CALL gds.graph.create(,  'restaurant_and_category_full',,  {,    Restaurant: {,      label: 'Restaurant',,      properties: ['review_count', 'stars', 'open'],    },,    Category: {,      label: 'Category',,      properties: ['id'],    },  }, {,    IS_CATEGORY: {,      type: 'IS_CATEGORY',,      orientation: 'UNDIRECTED',    },}),"
   ]
  },
  {
   "cell_type": "code",
   "execution_count": null,
   "metadata": {},
   "outputs": [],
   "source": [
    "#Train graphsage model on a sub graph --> this also resulted in same embedding for all the nodes of same kind."
   ]
  },
  {
   "cell_type": "code",
   "execution_count": null,
   "metadata": {},
   "outputs": [],
   "source": [
    "//a 991 yelp restcat graphsage\n",
    "CALL gds.beta.graphSage.train(\n",
    "\t'restaurant_and_category_full',\n",
    "\t{\n",
    "\t\tmodelName: 'graphsage_rest_cat',\n",
    "\t\tfeatureProperties: ['review_count', 'stars', 'open'],\n",
    "\t\taggregator: 'mean',\n",
    "\t\tactivationFunction: 'relu',\n",
    "\t\tdegreeAsProperty: true,\n",
    "\t\tepochs: 5,\n",
    "\t\tsearchDepth:5,\n",
    "\t\tsampleSizes:[10,5],\n",
    "\t\tnegativeSampleWeight: 10,\n",
    "        projectedFeatureDimension:3\n",
    "\t}\n",
    ")"
   ]
  },
  {
   "cell_type": "code",
   "execution_count": null,
   "metadata": {},
   "outputs": [],
   "source": [
    "# Write graphsage embeddings trained on subgraph as node properties"
   ]
  },
  {
   "cell_type": "code",
   "execution_count": null,
   "metadata": {},
   "outputs": [],
   "source": [
    "//a 98 yelp graphsage embeddings\n",
    "CALL gds.beta.graphSage.write(\n",
    "'restaurant_and_category_full',\n",
    "{\n",
    "\twriteProperty: 'graphsage_embedding_subgraph',\n",
    "\tmodelName: 'graphsage_rest_cat'\n",
    "});"
   ]
  },
  {
   "cell_type": "code",
   "execution_count": null,
   "metadata": {},
   "outputs": [],
   "source": [
    "# Write FastRP (Fast Random Project) node embeddings as a node feature to all the nodes on subgraph - for full graph it was resulting in a lot of zero embedding vectors"
   ]
  },
  {
   "cell_type": "code",
   "execution_count": null,
   "metadata": {},
   "outputs": [],
   "source": [
    "//a 992 yelp fastRP full\n",
    "CALL gds.fastRP.write(\n",
    "  'restaurant_and_category_full',\n",
    "  {\n",
    "    iterationWeights: [1.0, 1.0, 4.0],\n",
    "    embeddingDimension: 5,\n",
    "    normalizationStrength: -0.9,\n",
    "    writeProperty: 'fastRP'\n",
    "  }\n",
    ")"
   ]
  }
 ],
 "metadata": {
  "kernelspec": {
   "display_name": "Python 3",
   "language": "python",
   "name": "python3"
  },
  "language_info": {
   "codemirror_mode": {
    "name": "ipython",
    "version": 3
   },
   "file_extension": ".py",
   "mimetype": "text/x-python",
   "name": "python",
   "nbconvert_exporter": "python",
   "pygments_lexer": "ipython3",
   "version": "3.7.6"
  }
 },
 "nbformat": 4,
 "nbformat_minor": 4
}
